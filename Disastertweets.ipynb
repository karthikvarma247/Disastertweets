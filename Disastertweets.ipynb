{
  "nbformat": 4,
  "nbformat_minor": 0,
  "metadata": {
    "colab": {
      "name": "Untitled6.ipynb",
      "provenance": []
    },
    "kernelspec": {
      "name": "python3",
      "display_name": "Python 3"
    },
    "language_info": {
      "name": "python"
    }
  },
  "cells": [
    {
      "cell_type": "code",
      "metadata": {
        "id": "ls__64Hl68vY"
      },
      "source": [
        "import pandas as pd\n",
        "import numpy as np \n",
        "import matplotlib.pyplot as plt"
      ],
      "execution_count": 2,
      "outputs": []
    },
    {
      "cell_type": "code",
      "metadata": {
        "id": "K3SwSya87IPq"
      },
      "source": [
        "train_df = pd.read_csv('tweettrain.csv')"
      ],
      "execution_count": 3,
      "outputs": []
    },
    {
      "cell_type": "code",
      "metadata": {
        "colab": {
          "base_uri": "https://localhost:8080/",
          "height": 204
        },
        "id": "Idt_EEa67R7v",
        "outputId": "7a53bca9-c3da-45dd-a23b-709c2afe4d0c"
      },
      "source": [
        "train_df.head()"
      ],
      "execution_count": 4,
      "outputs": [
        {
          "output_type": "execute_result",
          "data": {
            "text/html": [
              "<div>\n",
              "<style scoped>\n",
              "    .dataframe tbody tr th:only-of-type {\n",
              "        vertical-align: middle;\n",
              "    }\n",
              "\n",
              "    .dataframe tbody tr th {\n",
              "        vertical-align: top;\n",
              "    }\n",
              "\n",
              "    .dataframe thead th {\n",
              "        text-align: right;\n",
              "    }\n",
              "</style>\n",
              "<table border=\"1\" class=\"dataframe\">\n",
              "  <thead>\n",
              "    <tr style=\"text-align: right;\">\n",
              "      <th></th>\n",
              "      <th>id</th>\n",
              "      <th>keyword</th>\n",
              "      <th>location</th>\n",
              "      <th>text</th>\n",
              "      <th>target</th>\n",
              "    </tr>\n",
              "  </thead>\n",
              "  <tbody>\n",
              "    <tr>\n",
              "      <th>0</th>\n",
              "      <td>1</td>\n",
              "      <td>NaN</td>\n",
              "      <td>NaN</td>\n",
              "      <td>Our Deeds are the Reason of this #earthquake M...</td>\n",
              "      <td>1</td>\n",
              "    </tr>\n",
              "    <tr>\n",
              "      <th>1</th>\n",
              "      <td>4</td>\n",
              "      <td>NaN</td>\n",
              "      <td>NaN</td>\n",
              "      <td>Forest fire near La Ronge Sask. Canada</td>\n",
              "      <td>1</td>\n",
              "    </tr>\n",
              "    <tr>\n",
              "      <th>2</th>\n",
              "      <td>5</td>\n",
              "      <td>NaN</td>\n",
              "      <td>NaN</td>\n",
              "      <td>All residents asked to 'shelter in place' are ...</td>\n",
              "      <td>1</td>\n",
              "    </tr>\n",
              "    <tr>\n",
              "      <th>3</th>\n",
              "      <td>6</td>\n",
              "      <td>NaN</td>\n",
              "      <td>NaN</td>\n",
              "      <td>13,000 people receive #wildfires evacuation or...</td>\n",
              "      <td>1</td>\n",
              "    </tr>\n",
              "    <tr>\n",
              "      <th>4</th>\n",
              "      <td>7</td>\n",
              "      <td>NaN</td>\n",
              "      <td>NaN</td>\n",
              "      <td>Just got sent this photo from Ruby #Alaska as ...</td>\n",
              "      <td>1</td>\n",
              "    </tr>\n",
              "  </tbody>\n",
              "</table>\n",
              "</div>"
            ],
            "text/plain": [
              "   id keyword  ...                                               text target\n",
              "0   1     NaN  ...  Our Deeds are the Reason of this #earthquake M...      1\n",
              "1   4     NaN  ...             Forest fire near La Ronge Sask. Canada      1\n",
              "2   5     NaN  ...  All residents asked to 'shelter in place' are ...      1\n",
              "3   6     NaN  ...  13,000 people receive #wildfires evacuation or...      1\n",
              "4   7     NaN  ...  Just got sent this photo from Ruby #Alaska as ...      1\n",
              "\n",
              "[5 rows x 5 columns]"
            ]
          },
          "metadata": {},
          "execution_count": 4
        }
      ]
    },
    {
      "cell_type": "code",
      "metadata": {
        "colab": {
          "base_uri": "https://localhost:8080/"
        },
        "id": "kgT8TTw_7kkV",
        "outputId": "9e720dd0-89b7-41ec-8e63-c3b121daea90"
      },
      "source": [
        "train_df.info()"
      ],
      "execution_count": 5,
      "outputs": [
        {
          "output_type": "stream",
          "name": "stdout",
          "text": [
            "<class 'pandas.core.frame.DataFrame'>\n",
            "RangeIndex: 7613 entries, 0 to 7612\n",
            "Data columns (total 5 columns):\n",
            " #   Column    Non-Null Count  Dtype \n",
            "---  ------    --------------  ----- \n",
            " 0   id        7613 non-null   int64 \n",
            " 1   keyword   7552 non-null   object\n",
            " 2   location  5080 non-null   object\n",
            " 3   text      7613 non-null   object\n",
            " 4   target    7613 non-null   int64 \n",
            "dtypes: int64(2), object(3)\n",
            "memory usage: 297.5+ KB\n"
          ]
        }
      ]
    },
    {
      "cell_type": "markdown",
      "metadata": {
        "id": "tKuzAg-n7r5v"
      },
      "source": [
        "\n",
        "\n",
        "*   The data seems good not lot of null values in majority of the columns\n",
        "*   But the location column have a lot of null values\n",
        "\n",
        "\n",
        "\n",
        "\n",
        "\n"
      ]
    },
    {
      "cell_type": "code",
      "metadata": {
        "colab": {
          "base_uri": "https://localhost:8080/"
        },
        "id": "u0lwNJvi9GNp",
        "outputId": "bf1cab5e-02fe-4209-fac7-8f804cbcaf13"
      },
      "source": [
        "train_df['location'].unique().shape"
      ],
      "execution_count": 6,
      "outputs": [
        {
          "output_type": "execute_result",
          "data": {
            "text/plain": [
              "(3342,)"
            ]
          },
          "metadata": {},
          "execution_count": 6
        }
      ]
    },
    {
      "cell_type": "code",
      "metadata": {
        "colab": {
          "base_uri": "https://localhost:8080/"
        },
        "id": "E8MUHXP17rgQ",
        "outputId": "36c5df70-3522-425b-d9ec-82fddfdf58b8"
      },
      "source": [
        "train_df['location'].value_counts()"
      ],
      "execution_count": 7,
      "outputs": [
        {
          "output_type": "execute_result",
          "data": {
            "text/plain": [
              "USA                          104\n",
              "New York                      71\n",
              "United States                 50\n",
              "London                        45\n",
              "Canada                        29\n",
              "                            ... \n",
              "Right here                     1\n",
              "#MayGodHelpUS                  1\n",
              "London/Surrey                  1\n",
              "Akure city in ondo state       1\n",
              "Des Moines, Iowa               1\n",
              "Name: location, Length: 3341, dtype: int64"
            ]
          },
          "metadata": {},
          "execution_count": 7
        }
      ]
    },
    {
      "cell_type": "markdown",
      "metadata": {
        "id": "n6itNvnM9BRh"
      },
      "source": [
        "\n",
        "\n",
        "*   Looks like there are a lot of unique values in the location column.\n",
        "*   since this feature has a lot of unique values it may not be a useful feature to determine the target.\n",
        "\n"
      ]
    },
    {
      "cell_type": "code",
      "metadata": {
        "colab": {
          "base_uri": "https://localhost:8080/"
        },
        "id": "XwkCjb817UjJ",
        "outputId": "ececd3ea-853a-469f-fb41-dc3b1a48081f"
      },
      "source": [
        "train_df['target'].value_counts()"
      ],
      "execution_count": 8,
      "outputs": [
        {
          "output_type": "execute_result",
          "data": {
            "text/plain": [
              "0    4342\n",
              "1    3271\n",
              "Name: target, dtype: int64"
            ]
          },
          "metadata": {},
          "execution_count": 8
        }
      ]
    },
    {
      "cell_type": "code",
      "metadata": {
        "id": "QYgp8VI97gi5"
      },
      "source": [
        "train_df2 = train_df.drop(columns= ['location'])"
      ],
      "execution_count": 9,
      "outputs": []
    },
    {
      "cell_type": "code",
      "metadata": {
        "id": "U1knT7pF-Sec"
      },
      "source": [
        "train_df2['keyword'].fillna('unknown', inplace = True)"
      ],
      "execution_count": 10,
      "outputs": []
    },
    {
      "cell_type": "code",
      "metadata": {
        "colab": {
          "base_uri": "https://localhost:8080/",
          "height": 419
        },
        "id": "P0mEbXBQ_uhj",
        "outputId": "b584f4bc-d038-4f1e-b32c-f92a6fd2b433"
      },
      "source": [
        "train_df2"
      ],
      "execution_count": 11,
      "outputs": [
        {
          "output_type": "execute_result",
          "data": {
            "text/html": [
              "<div>\n",
              "<style scoped>\n",
              "    .dataframe tbody tr th:only-of-type {\n",
              "        vertical-align: middle;\n",
              "    }\n",
              "\n",
              "    .dataframe tbody tr th {\n",
              "        vertical-align: top;\n",
              "    }\n",
              "\n",
              "    .dataframe thead th {\n",
              "        text-align: right;\n",
              "    }\n",
              "</style>\n",
              "<table border=\"1\" class=\"dataframe\">\n",
              "  <thead>\n",
              "    <tr style=\"text-align: right;\">\n",
              "      <th></th>\n",
              "      <th>id</th>\n",
              "      <th>keyword</th>\n",
              "      <th>text</th>\n",
              "      <th>target</th>\n",
              "    </tr>\n",
              "  </thead>\n",
              "  <tbody>\n",
              "    <tr>\n",
              "      <th>0</th>\n",
              "      <td>1</td>\n",
              "      <td>unknown</td>\n",
              "      <td>Our Deeds are the Reason of this #earthquake M...</td>\n",
              "      <td>1</td>\n",
              "    </tr>\n",
              "    <tr>\n",
              "      <th>1</th>\n",
              "      <td>4</td>\n",
              "      <td>unknown</td>\n",
              "      <td>Forest fire near La Ronge Sask. Canada</td>\n",
              "      <td>1</td>\n",
              "    </tr>\n",
              "    <tr>\n",
              "      <th>2</th>\n",
              "      <td>5</td>\n",
              "      <td>unknown</td>\n",
              "      <td>All residents asked to 'shelter in place' are ...</td>\n",
              "      <td>1</td>\n",
              "    </tr>\n",
              "    <tr>\n",
              "      <th>3</th>\n",
              "      <td>6</td>\n",
              "      <td>unknown</td>\n",
              "      <td>13,000 people receive #wildfires evacuation or...</td>\n",
              "      <td>1</td>\n",
              "    </tr>\n",
              "    <tr>\n",
              "      <th>4</th>\n",
              "      <td>7</td>\n",
              "      <td>unknown</td>\n",
              "      <td>Just got sent this photo from Ruby #Alaska as ...</td>\n",
              "      <td>1</td>\n",
              "    </tr>\n",
              "    <tr>\n",
              "      <th>...</th>\n",
              "      <td>...</td>\n",
              "      <td>...</td>\n",
              "      <td>...</td>\n",
              "      <td>...</td>\n",
              "    </tr>\n",
              "    <tr>\n",
              "      <th>7608</th>\n",
              "      <td>10869</td>\n",
              "      <td>unknown</td>\n",
              "      <td>Two giant cranes holding a bridge collapse int...</td>\n",
              "      <td>1</td>\n",
              "    </tr>\n",
              "    <tr>\n",
              "      <th>7609</th>\n",
              "      <td>10870</td>\n",
              "      <td>unknown</td>\n",
              "      <td>@aria_ahrary @TheTawniest The out of control w...</td>\n",
              "      <td>1</td>\n",
              "    </tr>\n",
              "    <tr>\n",
              "      <th>7610</th>\n",
              "      <td>10871</td>\n",
              "      <td>unknown</td>\n",
              "      <td>M1.94 [01:04 UTC]?5km S of Volcano Hawaii. htt...</td>\n",
              "      <td>1</td>\n",
              "    </tr>\n",
              "    <tr>\n",
              "      <th>7611</th>\n",
              "      <td>10872</td>\n",
              "      <td>unknown</td>\n",
              "      <td>Police investigating after an e-bike collided ...</td>\n",
              "      <td>1</td>\n",
              "    </tr>\n",
              "    <tr>\n",
              "      <th>7612</th>\n",
              "      <td>10873</td>\n",
              "      <td>unknown</td>\n",
              "      <td>The Latest: More Homes Razed by Northern Calif...</td>\n",
              "      <td>1</td>\n",
              "    </tr>\n",
              "  </tbody>\n",
              "</table>\n",
              "<p>7613 rows × 4 columns</p>\n",
              "</div>"
            ],
            "text/plain": [
              "         id  keyword                                               text  target\n",
              "0         1  unknown  Our Deeds are the Reason of this #earthquake M...       1\n",
              "1         4  unknown             Forest fire near La Ronge Sask. Canada       1\n",
              "2         5  unknown  All residents asked to 'shelter in place' are ...       1\n",
              "3         6  unknown  13,000 people receive #wildfires evacuation or...       1\n",
              "4         7  unknown  Just got sent this photo from Ruby #Alaska as ...       1\n",
              "...     ...      ...                                                ...     ...\n",
              "7608  10869  unknown  Two giant cranes holding a bridge collapse int...       1\n",
              "7609  10870  unknown  @aria_ahrary @TheTawniest The out of control w...       1\n",
              "7610  10871  unknown  M1.94 [01:04 UTC]?5km S of Volcano Hawaii. htt...       1\n",
              "7611  10872  unknown  Police investigating after an e-bike collided ...       1\n",
              "7612  10873  unknown  The Latest: More Homes Razed by Northern Calif...       1\n",
              "\n",
              "[7613 rows x 4 columns]"
            ]
          },
          "metadata": {},
          "execution_count": 11
        }
      ]
    },
    {
      "cell_type": "code",
      "metadata": {
        "colab": {
          "base_uri": "https://localhost:8080/"
        },
        "id": "RbdtGAk3_ywL",
        "outputId": "be5ec14a-2613-43c5-989b-786165342297"
      },
      "source": [
        "train_df2['keyword'].unique().shape"
      ],
      "execution_count": 12,
      "outputs": [
        {
          "output_type": "execute_result",
          "data": {
            "text/plain": [
              "(222,)"
            ]
          },
          "metadata": {},
          "execution_count": 12
        }
      ]
    },
    {
      "cell_type": "code",
      "metadata": {
        "colab": {
          "base_uri": "https://localhost:8080/"
        },
        "id": "YjISvh1oAaTZ",
        "outputId": "bc0fbc6f-5ff9-4420-cba4-7b56eac4aaf6"
      },
      "source": [
        "import nltk\n",
        "nltk.download('stopwords')\n",
        "from nltk.corpus import stopwords"
      ],
      "execution_count": 13,
      "outputs": [
        {
          "output_type": "stream",
          "name": "stdout",
          "text": [
            "[nltk_data] Downloading package stopwords to /root/nltk_data...\n",
            "[nltk_data]   Unzipping corpora/stopwords.zip.\n"
          ]
        }
      ]
    },
    {
      "cell_type": "code",
      "metadata": {
        "id": "4hcJhtfBCkIk"
      },
      "source": [
        "stop_words = set(stopwords.words('english'))\n",
        "\n",
        "\n",
        "def nlp_preprocessing(total_text, index, column,df):\n",
        "    if type(total_text) is not int:\n",
        "        string = \"\"\n",
        "        total_text = re.sub('((www\\.[^\\s]+)|(https?://[^\\s]+))','',total_text)\n",
        "        # replace every special char with space\n",
        "        total_text = re.sub('[^a-zA-Z0-9\\n]', ' ', total_text)\n",
        "        # replace multiple spaces with single space\n",
        "        total_text = re.sub('\\s+',' ', total_text)\n",
        "        # converting all the chars into lower-case.\n",
        "        total_text = total_text.lower()\n",
        "        \n",
        "        for word in total_text.split():\n",
        "        # if the word is a not a stop word then retain that word from the data\n",
        "            if not word in stop_words:\n",
        "                string += word + \" \"\n",
        "        \n",
        "        \n",
        "        df[column][index] = string"
      ],
      "execution_count": 14,
      "outputs": []
    },
    {
      "cell_type": "code",
      "metadata": {
        "id": "13kRySxnDOL6"
      },
      "source": [
        "import time\n",
        "import re\n",
        "def preprocess(df):\n",
        "  start_time = time.time()\n",
        "  for index, row in df.iterrows():\n",
        "    if type(row['text']) is str:\n",
        "      nlp_preprocessing(row['text'], index, 'text',df)\n",
        "    else:\n",
        "        print(\"there is no text description for id:\",index)\n",
        "  print('Time took for preprocessing the text :',time.time() - start_time, \"second\")"
      ],
      "execution_count": 15,
      "outputs": []
    },
    {
      "cell_type": "code",
      "metadata": {
        "colab": {
          "base_uri": "https://localhost:8080/"
        },
        "id": "F4N7dt6VTNKH",
        "outputId": "2f723fb8-52af-487d-85af-0aa41c77fa95"
      },
      "source": [
        "preprocess(train_df2)"
      ],
      "execution_count": 16,
      "outputs": [
        {
          "output_type": "stream",
          "name": "stderr",
          "text": [
            "/usr/local/lib/python3.7/dist-packages/ipykernel_launcher.py:21: SettingWithCopyWarning: \n",
            "A value is trying to be set on a copy of a slice from a DataFrame\n",
            "\n",
            "See the caveats in the documentation: https://pandas.pydata.org/pandas-docs/stable/user_guide/indexing.html#returning-a-view-versus-a-copy\n"
          ]
        },
        {
          "output_type": "stream",
          "name": "stdout",
          "text": [
            "Time took for preprocessing the text : 2.3181798458099365 second\n"
          ]
        }
      ]
    },
    {
      "cell_type": "code",
      "metadata": {
        "colab": {
          "base_uri": "https://localhost:8080/",
          "height": 419
        },
        "id": "LE0FeID_ThYu",
        "outputId": "5ecc4c62-6b7b-4078-f1a8-bcbb553d414b"
      },
      "source": [
        "train_df2"
      ],
      "execution_count": 17,
      "outputs": [
        {
          "output_type": "execute_result",
          "data": {
            "text/html": [
              "<div>\n",
              "<style scoped>\n",
              "    .dataframe tbody tr th:only-of-type {\n",
              "        vertical-align: middle;\n",
              "    }\n",
              "\n",
              "    .dataframe tbody tr th {\n",
              "        vertical-align: top;\n",
              "    }\n",
              "\n",
              "    .dataframe thead th {\n",
              "        text-align: right;\n",
              "    }\n",
              "</style>\n",
              "<table border=\"1\" class=\"dataframe\">\n",
              "  <thead>\n",
              "    <tr style=\"text-align: right;\">\n",
              "      <th></th>\n",
              "      <th>id</th>\n",
              "      <th>keyword</th>\n",
              "      <th>text</th>\n",
              "      <th>target</th>\n",
              "    </tr>\n",
              "  </thead>\n",
              "  <tbody>\n",
              "    <tr>\n",
              "      <th>0</th>\n",
              "      <td>1</td>\n",
              "      <td>unknown</td>\n",
              "      <td>deeds reason earthquake may allah forgive us</td>\n",
              "      <td>1</td>\n",
              "    </tr>\n",
              "    <tr>\n",
              "      <th>1</th>\n",
              "      <td>4</td>\n",
              "      <td>unknown</td>\n",
              "      <td>forest fire near la ronge sask canada</td>\n",
              "      <td>1</td>\n",
              "    </tr>\n",
              "    <tr>\n",
              "      <th>2</th>\n",
              "      <td>5</td>\n",
              "      <td>unknown</td>\n",
              "      <td>residents asked shelter place notified officer...</td>\n",
              "      <td>1</td>\n",
              "    </tr>\n",
              "    <tr>\n",
              "      <th>3</th>\n",
              "      <td>6</td>\n",
              "      <td>unknown</td>\n",
              "      <td>13 000 people receive wildfires evacuation ord...</td>\n",
              "      <td>1</td>\n",
              "    </tr>\n",
              "    <tr>\n",
              "      <th>4</th>\n",
              "      <td>7</td>\n",
              "      <td>unknown</td>\n",
              "      <td>got sent photo ruby alaska smoke wildfires pou...</td>\n",
              "      <td>1</td>\n",
              "    </tr>\n",
              "    <tr>\n",
              "      <th>...</th>\n",
              "      <td>...</td>\n",
              "      <td>...</td>\n",
              "      <td>...</td>\n",
              "      <td>...</td>\n",
              "    </tr>\n",
              "    <tr>\n",
              "      <th>7608</th>\n",
              "      <td>10869</td>\n",
              "      <td>unknown</td>\n",
              "      <td>two giant cranes holding bridge collapse nearb...</td>\n",
              "      <td>1</td>\n",
              "    </tr>\n",
              "    <tr>\n",
              "      <th>7609</th>\n",
              "      <td>10870</td>\n",
              "      <td>unknown</td>\n",
              "      <td>aria ahrary thetawniest control wild fires cal...</td>\n",
              "      <td>1</td>\n",
              "    </tr>\n",
              "    <tr>\n",
              "      <th>7610</th>\n",
              "      <td>10871</td>\n",
              "      <td>unknown</td>\n",
              "      <td>m1 94 01 04 utc 5km volcano hawaii</td>\n",
              "      <td>1</td>\n",
              "    </tr>\n",
              "    <tr>\n",
              "      <th>7611</th>\n",
              "      <td>10872</td>\n",
              "      <td>unknown</td>\n",
              "      <td>police investigating e bike collided car littl...</td>\n",
              "      <td>1</td>\n",
              "    </tr>\n",
              "    <tr>\n",
              "      <th>7612</th>\n",
              "      <td>10873</td>\n",
              "      <td>unknown</td>\n",
              "      <td>latest homes razed northern california wildfir...</td>\n",
              "      <td>1</td>\n",
              "    </tr>\n",
              "  </tbody>\n",
              "</table>\n",
              "<p>7613 rows × 4 columns</p>\n",
              "</div>"
            ],
            "text/plain": [
              "         id  keyword                                               text  target\n",
              "0         1  unknown      deeds reason earthquake may allah forgive us        1\n",
              "1         4  unknown             forest fire near la ronge sask canada        1\n",
              "2         5  unknown  residents asked shelter place notified officer...       1\n",
              "3         6  unknown  13 000 people receive wildfires evacuation ord...       1\n",
              "4         7  unknown  got sent photo ruby alaska smoke wildfires pou...       1\n",
              "...     ...      ...                                                ...     ...\n",
              "7608  10869  unknown  two giant cranes holding bridge collapse nearb...       1\n",
              "7609  10870  unknown  aria ahrary thetawniest control wild fires cal...       1\n",
              "7610  10871  unknown                m1 94 01 04 utc 5km volcano hawaii        1\n",
              "7611  10872  unknown  police investigating e bike collided car littl...       1\n",
              "7612  10873  unknown  latest homes razed northern california wildfir...       1\n",
              "\n",
              "[7613 rows x 4 columns]"
            ]
          },
          "metadata": {},
          "execution_count": 17
        }
      ]
    },
    {
      "cell_type": "code",
      "metadata": {
        "colab": {
          "base_uri": "https://localhost:8080/"
        },
        "id": "sF-7EJ6ITucx",
        "outputId": "25837275-df83-4b82-e7e1-8269fc54b980"
      },
      "source": [
        "train_df2['text'].values"
      ],
      "execution_count": 18,
      "outputs": [
        {
          "output_type": "execute_result",
          "data": {
            "text/plain": [
              "array(['deeds reason earthquake may allah forgive us ',\n",
              "       'forest fire near la ronge sask canada ',\n",
              "       'residents asked shelter place notified officers evacuation shelter place orders expected ',\n",
              "       ..., 'm1 94 01 04 utc 5km volcano hawaii ',\n",
              "       'police investigating e bike collided car little portugal e bike rider suffered serious non life threatening injuries ',\n",
              "       'latest homes razed northern california wildfire abc news '],\n",
              "      dtype=object)"
            ]
          },
          "metadata": {},
          "execution_count": 18
        }
      ]
    },
    {
      "cell_type": "code",
      "metadata": {
        "colab": {
          "base_uri": "https://localhost:8080/"
        },
        "id": "RnL-Zb7cX1s_",
        "outputId": "8b40585a-ba2f-47f8-cfa0-ec5e48259623"
      },
      "source": [
        "train_df2['keyword'].value_counts()"
      ],
      "execution_count": 19,
      "outputs": [
        {
          "output_type": "execute_result",
          "data": {
            "text/plain": [
              "unknown                  61\n",
              "fatalities               45\n",
              "deluge                   42\n",
              "armageddon               42\n",
              "sinking                  41\n",
              "                         ..\n",
              "forest%20fire            19\n",
              "epicentre                12\n",
              "threat                   11\n",
              "inundation               10\n",
              "radiation%20emergency     9\n",
              "Name: keyword, Length: 222, dtype: int64"
            ]
          },
          "metadata": {},
          "execution_count": 19
        }
      ]
    },
    {
      "cell_type": "code",
      "metadata": {
        "id": "K-klbZ2qWhP5"
      },
      "source": [
        "def keyword(df):\n",
        "    string = \"\"\n",
        "    for i in range(0, len(df)):\n",
        "      keyword = re.sub('[^a-zA-Z]', ' ', df['keyword'][i])\n",
        "      keyword = keyword.lower()\n",
        "      keyword = keyword.split()\n",
        "      keyword = ' '.join(keyword)\n",
        "      df['keyword'][i] = keyword "
      ],
      "execution_count": 20,
      "outputs": []
    },
    {
      "cell_type": "code",
      "metadata": {
        "colab": {
          "base_uri": "https://localhost:8080/"
        },
        "id": "9IHfVylt1EHx",
        "outputId": "e6b8cad5-ee92-4a82-cf55-0bc3f4cfcfd2"
      },
      "source": [
        "keyword(train_df2)"
      ],
      "execution_count": 21,
      "outputs": [
        {
          "output_type": "stream",
          "name": "stderr",
          "text": [
            "/usr/local/lib/python3.7/dist-packages/ipykernel_launcher.py:8: SettingWithCopyWarning: \n",
            "A value is trying to be set on a copy of a slice from a DataFrame\n",
            "\n",
            "See the caveats in the documentation: https://pandas.pydata.org/pandas-docs/stable/user_guide/indexing.html#returning-a-view-versus-a-copy\n",
            "  \n"
          ]
        }
      ]
    },
    {
      "cell_type": "code",
      "metadata": {
        "colab": {
          "base_uri": "https://localhost:8080/"
        },
        "id": "i-p-T1BFZFVK",
        "outputId": "8b08b1d3-64c4-4375-9d37-273fe309677d"
      },
      "source": [
        "preprocess(train_df2)"
      ],
      "execution_count": 22,
      "outputs": [
        {
          "output_type": "stream",
          "name": "stderr",
          "text": [
            "/usr/local/lib/python3.7/dist-packages/ipykernel_launcher.py:21: SettingWithCopyWarning: \n",
            "A value is trying to be set on a copy of a slice from a DataFrame\n",
            "\n",
            "See the caveats in the documentation: https://pandas.pydata.org/pandas-docs/stable/user_guide/indexing.html#returning-a-view-versus-a-copy\n"
          ]
        },
        {
          "output_type": "stream",
          "name": "stdout",
          "text": [
            "Time took for preprocessing the text : 2.2612948417663574 second\n"
          ]
        }
      ]
    },
    {
      "cell_type": "code",
      "metadata": {
        "colab": {
          "base_uri": "https://localhost:8080/",
          "height": 419
        },
        "id": "FowdQ8wjZJPC",
        "outputId": "1f906920-3c7c-40d8-a016-acd27818fa25"
      },
      "source": [
        "\n",
        "train_df2"
      ],
      "execution_count": 23,
      "outputs": [
        {
          "output_type": "execute_result",
          "data": {
            "text/html": [
              "<div>\n",
              "<style scoped>\n",
              "    .dataframe tbody tr th:only-of-type {\n",
              "        vertical-align: middle;\n",
              "    }\n",
              "\n",
              "    .dataframe tbody tr th {\n",
              "        vertical-align: top;\n",
              "    }\n",
              "\n",
              "    .dataframe thead th {\n",
              "        text-align: right;\n",
              "    }\n",
              "</style>\n",
              "<table border=\"1\" class=\"dataframe\">\n",
              "  <thead>\n",
              "    <tr style=\"text-align: right;\">\n",
              "      <th></th>\n",
              "      <th>id</th>\n",
              "      <th>keyword</th>\n",
              "      <th>text</th>\n",
              "      <th>target</th>\n",
              "    </tr>\n",
              "  </thead>\n",
              "  <tbody>\n",
              "    <tr>\n",
              "      <th>0</th>\n",
              "      <td>1</td>\n",
              "      <td>unknown</td>\n",
              "      <td>deeds reason earthquake may allah forgive us</td>\n",
              "      <td>1</td>\n",
              "    </tr>\n",
              "    <tr>\n",
              "      <th>1</th>\n",
              "      <td>4</td>\n",
              "      <td>unknown</td>\n",
              "      <td>forest fire near la ronge sask canada</td>\n",
              "      <td>1</td>\n",
              "    </tr>\n",
              "    <tr>\n",
              "      <th>2</th>\n",
              "      <td>5</td>\n",
              "      <td>unknown</td>\n",
              "      <td>residents asked shelter place notified officer...</td>\n",
              "      <td>1</td>\n",
              "    </tr>\n",
              "    <tr>\n",
              "      <th>3</th>\n",
              "      <td>6</td>\n",
              "      <td>unknown</td>\n",
              "      <td>13 000 people receive wildfires evacuation ord...</td>\n",
              "      <td>1</td>\n",
              "    </tr>\n",
              "    <tr>\n",
              "      <th>4</th>\n",
              "      <td>7</td>\n",
              "      <td>unknown</td>\n",
              "      <td>got sent photo ruby alaska smoke wildfires pou...</td>\n",
              "      <td>1</td>\n",
              "    </tr>\n",
              "    <tr>\n",
              "      <th>...</th>\n",
              "      <td>...</td>\n",
              "      <td>...</td>\n",
              "      <td>...</td>\n",
              "      <td>...</td>\n",
              "    </tr>\n",
              "    <tr>\n",
              "      <th>7608</th>\n",
              "      <td>10869</td>\n",
              "      <td>unknown</td>\n",
              "      <td>two giant cranes holding bridge collapse nearb...</td>\n",
              "      <td>1</td>\n",
              "    </tr>\n",
              "    <tr>\n",
              "      <th>7609</th>\n",
              "      <td>10870</td>\n",
              "      <td>unknown</td>\n",
              "      <td>aria ahrary thetawniest control wild fires cal...</td>\n",
              "      <td>1</td>\n",
              "    </tr>\n",
              "    <tr>\n",
              "      <th>7610</th>\n",
              "      <td>10871</td>\n",
              "      <td>unknown</td>\n",
              "      <td>m1 94 01 04 utc 5km volcano hawaii</td>\n",
              "      <td>1</td>\n",
              "    </tr>\n",
              "    <tr>\n",
              "      <th>7611</th>\n",
              "      <td>10872</td>\n",
              "      <td>unknown</td>\n",
              "      <td>police investigating e bike collided car littl...</td>\n",
              "      <td>1</td>\n",
              "    </tr>\n",
              "    <tr>\n",
              "      <th>7612</th>\n",
              "      <td>10873</td>\n",
              "      <td>unknown</td>\n",
              "      <td>latest homes razed northern california wildfir...</td>\n",
              "      <td>1</td>\n",
              "    </tr>\n",
              "  </tbody>\n",
              "</table>\n",
              "<p>7613 rows × 4 columns</p>\n",
              "</div>"
            ],
            "text/plain": [
              "         id  keyword                                               text  target\n",
              "0         1  unknown      deeds reason earthquake may allah forgive us        1\n",
              "1         4  unknown             forest fire near la ronge sask canada        1\n",
              "2         5  unknown  residents asked shelter place notified officer...       1\n",
              "3         6  unknown  13 000 people receive wildfires evacuation ord...       1\n",
              "4         7  unknown  got sent photo ruby alaska smoke wildfires pou...       1\n",
              "...     ...      ...                                                ...     ...\n",
              "7608  10869  unknown  two giant cranes holding bridge collapse nearb...       1\n",
              "7609  10870  unknown  aria ahrary thetawniest control wild fires cal...       1\n",
              "7610  10871  unknown                m1 94 01 04 utc 5km volcano hawaii        1\n",
              "7611  10872  unknown  police investigating e bike collided car littl...       1\n",
              "7612  10873  unknown  latest homes razed northern california wildfir...       1\n",
              "\n",
              "[7613 rows x 4 columns]"
            ]
          },
          "metadata": {},
          "execution_count": 23
        }
      ]
    },
    {
      "cell_type": "code",
      "metadata": {
        "colab": {
          "base_uri": "https://localhost:8080/"
        },
        "id": "z86lNbB0ZOSq",
        "outputId": "7c12b204-d4e5-4e57-8a96-23742fb12580"
      },
      "source": [
        "train_df2['keyword'].value_counts()"
      ],
      "execution_count": 24,
      "outputs": [
        {
          "output_type": "execute_result",
          "data": {
            "text/plain": [
              "unknown                61\n",
              "fatalities             45\n",
              "armageddon             42\n",
              "deluge                 42\n",
              "damage                 41\n",
              "                       ..\n",
              "forest fire            19\n",
              "epicentre              12\n",
              "threat                 11\n",
              "inundation             10\n",
              "radiation emergency     9\n",
              "Name: keyword, Length: 222, dtype: int64"
            ]
          },
          "metadata": {},
          "execution_count": 24
        }
      ]
    },
    {
      "cell_type": "markdown",
      "metadata": {
        "id": "Co3QoYfr3fnU"
      },
      "source": [
        "\n",
        "\n",
        "\n",
        "\n",
        "**IMPLEMENTING THE SAME TO THE TEST DATA**"
      ]
    },
    {
      "cell_type": "code",
      "metadata": {
        "colab": {
          "base_uri": "https://localhost:8080/",
          "height": 436
        },
        "id": "amCa-aLo2Fac",
        "outputId": "be7268fb-cd23-41ac-ae19-43bdb1ed3b27"
      },
      "source": [
        "test_df = pd.read_csv('tweettest.csv')\n",
        "test_df"
      ],
      "execution_count": 25,
      "outputs": [
        {
          "output_type": "execute_result",
          "data": {
            "text/html": [
              "<div>\n",
              "<style scoped>\n",
              "    .dataframe tbody tr th:only-of-type {\n",
              "        vertical-align: middle;\n",
              "    }\n",
              "\n",
              "    .dataframe tbody tr th {\n",
              "        vertical-align: top;\n",
              "    }\n",
              "\n",
              "    .dataframe thead th {\n",
              "        text-align: right;\n",
              "    }\n",
              "</style>\n",
              "<table border=\"1\" class=\"dataframe\">\n",
              "  <thead>\n",
              "    <tr style=\"text-align: right;\">\n",
              "      <th></th>\n",
              "      <th>id</th>\n",
              "      <th>keyword</th>\n",
              "      <th>location</th>\n",
              "      <th>text</th>\n",
              "    </tr>\n",
              "  </thead>\n",
              "  <tbody>\n",
              "    <tr>\n",
              "      <th>0</th>\n",
              "      <td>0</td>\n",
              "      <td>NaN</td>\n",
              "      <td>NaN</td>\n",
              "      <td>Just happened a terrible car crash</td>\n",
              "    </tr>\n",
              "    <tr>\n",
              "      <th>1</th>\n",
              "      <td>2</td>\n",
              "      <td>NaN</td>\n",
              "      <td>NaN</td>\n",
              "      <td>Heard about #earthquake is different cities, s...</td>\n",
              "    </tr>\n",
              "    <tr>\n",
              "      <th>2</th>\n",
              "      <td>3</td>\n",
              "      <td>NaN</td>\n",
              "      <td>NaN</td>\n",
              "      <td>there is a forest fire at spot pond, geese are...</td>\n",
              "    </tr>\n",
              "    <tr>\n",
              "      <th>3</th>\n",
              "      <td>9</td>\n",
              "      <td>NaN</td>\n",
              "      <td>NaN</td>\n",
              "      <td>Apocalypse lighting. #Spokane #wildfires</td>\n",
              "    </tr>\n",
              "    <tr>\n",
              "      <th>4</th>\n",
              "      <td>11</td>\n",
              "      <td>NaN</td>\n",
              "      <td>NaN</td>\n",
              "      <td>Typhoon Soudelor kills 28 in China and Taiwan</td>\n",
              "    </tr>\n",
              "    <tr>\n",
              "      <th>...</th>\n",
              "      <td>...</td>\n",
              "      <td>...</td>\n",
              "      <td>...</td>\n",
              "      <td>...</td>\n",
              "    </tr>\n",
              "    <tr>\n",
              "      <th>3258</th>\n",
              "      <td>10861</td>\n",
              "      <td>NaN</td>\n",
              "      <td>NaN</td>\n",
              "      <td>EARTHQUAKE SAFETY LOS ANGELES ÛÒ SAFETY FASTE...</td>\n",
              "    </tr>\n",
              "    <tr>\n",
              "      <th>3259</th>\n",
              "      <td>10865</td>\n",
              "      <td>NaN</td>\n",
              "      <td>NaN</td>\n",
              "      <td>Storm in RI worse than last hurricane. My city...</td>\n",
              "    </tr>\n",
              "    <tr>\n",
              "      <th>3260</th>\n",
              "      <td>10868</td>\n",
              "      <td>NaN</td>\n",
              "      <td>NaN</td>\n",
              "      <td>Green Line derailment in Chicago http://t.co/U...</td>\n",
              "    </tr>\n",
              "    <tr>\n",
              "      <th>3261</th>\n",
              "      <td>10874</td>\n",
              "      <td>NaN</td>\n",
              "      <td>NaN</td>\n",
              "      <td>MEG issues Hazardous Weather Outlook (HWO) htt...</td>\n",
              "    </tr>\n",
              "    <tr>\n",
              "      <th>3262</th>\n",
              "      <td>10875</td>\n",
              "      <td>NaN</td>\n",
              "      <td>NaN</td>\n",
              "      <td>#CityofCalgary has activated its Municipal Eme...</td>\n",
              "    </tr>\n",
              "  </tbody>\n",
              "</table>\n",
              "<p>3263 rows × 4 columns</p>\n",
              "</div>"
            ],
            "text/plain": [
              "         id keyword location                                               text\n",
              "0         0     NaN      NaN                 Just happened a terrible car crash\n",
              "1         2     NaN      NaN  Heard about #earthquake is different cities, s...\n",
              "2         3     NaN      NaN  there is a forest fire at spot pond, geese are...\n",
              "3         9     NaN      NaN           Apocalypse lighting. #Spokane #wildfires\n",
              "4        11     NaN      NaN      Typhoon Soudelor kills 28 in China and Taiwan\n",
              "...     ...     ...      ...                                                ...\n",
              "3258  10861     NaN      NaN  EARTHQUAKE SAFETY LOS ANGELES ÛÒ SAFETY FASTE...\n",
              "3259  10865     NaN      NaN  Storm in RI worse than last hurricane. My city...\n",
              "3260  10868     NaN      NaN  Green Line derailment in Chicago http://t.co/U...\n",
              "3261  10874     NaN      NaN  MEG issues Hazardous Weather Outlook (HWO) htt...\n",
              "3262  10875     NaN      NaN  #CityofCalgary has activated its Municipal Eme...\n",
              "\n",
              "[3263 rows x 4 columns]"
            ]
          },
          "metadata": {},
          "execution_count": 25
        }
      ]
    },
    {
      "cell_type": "code",
      "metadata": {
        "id": "moIMI6AZ2FWe"
      },
      "source": [
        "test_df2 = test_df.drop(columns = ['location'])\n",
        "test_df2['keyword'].fillna('unknown', inplace = True)"
      ],
      "execution_count": 26,
      "outputs": []
    },
    {
      "cell_type": "code",
      "metadata": {
        "colab": {
          "base_uri": "https://localhost:8080/"
        },
        "id": "6mQI_SsA3A5N",
        "outputId": "f99a6989-5333-423b-ce00-95a74c4be5db"
      },
      "source": [
        "preprocess(test_df2)"
      ],
      "execution_count": 27,
      "outputs": [
        {
          "output_type": "stream",
          "name": "stderr",
          "text": [
            "/usr/local/lib/python3.7/dist-packages/ipykernel_launcher.py:21: SettingWithCopyWarning: \n",
            "A value is trying to be set on a copy of a slice from a DataFrame\n",
            "\n",
            "See the caveats in the documentation: https://pandas.pydata.org/pandas-docs/stable/user_guide/indexing.html#returning-a-view-versus-a-copy\n"
          ]
        },
        {
          "output_type": "stream",
          "name": "stdout",
          "text": [
            "Time took for preprocessing the text : 0.8869163990020752 second\n"
          ]
        }
      ]
    },
    {
      "cell_type": "code",
      "metadata": {
        "colab": {
          "base_uri": "https://localhost:8080/"
        },
        "id": "WHkXDRHB3QCE",
        "outputId": "3d5458f9-a649-4cef-a55b-561e7f061a17"
      },
      "source": [
        "keyword(test_df2)"
      ],
      "execution_count": 28,
      "outputs": [
        {
          "output_type": "stream",
          "name": "stderr",
          "text": [
            "/usr/local/lib/python3.7/dist-packages/ipykernel_launcher.py:8: SettingWithCopyWarning: \n",
            "A value is trying to be set on a copy of a slice from a DataFrame\n",
            "\n",
            "See the caveats in the documentation: https://pandas.pydata.org/pandas-docs/stable/user_guide/indexing.html#returning-a-view-versus-a-copy\n",
            "  \n"
          ]
        }
      ]
    },
    {
      "cell_type": "code",
      "metadata": {
        "colab": {
          "base_uri": "https://localhost:8080/",
          "height": 204
        },
        "id": "vox4_AOC21nK",
        "outputId": "864df2b0-193e-4456-f733-834520423067"
      },
      "source": [
        "test_df2.head()"
      ],
      "execution_count": 29,
      "outputs": [
        {
          "output_type": "execute_result",
          "data": {
            "text/html": [
              "<div>\n",
              "<style scoped>\n",
              "    .dataframe tbody tr th:only-of-type {\n",
              "        vertical-align: middle;\n",
              "    }\n",
              "\n",
              "    .dataframe tbody tr th {\n",
              "        vertical-align: top;\n",
              "    }\n",
              "\n",
              "    .dataframe thead th {\n",
              "        text-align: right;\n",
              "    }\n",
              "</style>\n",
              "<table border=\"1\" class=\"dataframe\">\n",
              "  <thead>\n",
              "    <tr style=\"text-align: right;\">\n",
              "      <th></th>\n",
              "      <th>id</th>\n",
              "      <th>keyword</th>\n",
              "      <th>text</th>\n",
              "    </tr>\n",
              "  </thead>\n",
              "  <tbody>\n",
              "    <tr>\n",
              "      <th>0</th>\n",
              "      <td>0</td>\n",
              "      <td>unknown</td>\n",
              "      <td>happened terrible car crash</td>\n",
              "    </tr>\n",
              "    <tr>\n",
              "      <th>1</th>\n",
              "      <td>2</td>\n",
              "      <td>unknown</td>\n",
              "      <td>heard earthquake different cities stay safe ev...</td>\n",
              "    </tr>\n",
              "    <tr>\n",
              "      <th>2</th>\n",
              "      <td>3</td>\n",
              "      <td>unknown</td>\n",
              "      <td>forest fire spot pond geese fleeing across str...</td>\n",
              "    </tr>\n",
              "    <tr>\n",
              "      <th>3</th>\n",
              "      <td>9</td>\n",
              "      <td>unknown</td>\n",
              "      <td>apocalypse lighting spokane wildfires</td>\n",
              "    </tr>\n",
              "    <tr>\n",
              "      <th>4</th>\n",
              "      <td>11</td>\n",
              "      <td>unknown</td>\n",
              "      <td>typhoon soudelor kills 28 china taiwan</td>\n",
              "    </tr>\n",
              "  </tbody>\n",
              "</table>\n",
              "</div>"
            ],
            "text/plain": [
              "   id  keyword                                               text\n",
              "0   0  unknown                       happened terrible car crash \n",
              "1   2  unknown  heard earthquake different cities stay safe ev...\n",
              "2   3  unknown  forest fire spot pond geese fleeing across str...\n",
              "3   9  unknown             apocalypse lighting spokane wildfires \n",
              "4  11  unknown            typhoon soudelor kills 28 china taiwan "
            ]
          },
          "metadata": {},
          "execution_count": 29
        }
      ]
    },
    {
      "cell_type": "code",
      "metadata": {
        "id": "1-qggUVzZTq2"
      },
      "source": [
        "import tensorflow as tf\n",
        "\n",
        "from tensorflow.keras.preprocessing.text import Tokenizer\n",
        "from tensorflow.keras.preprocessing.sequence import pad_sequences"
      ],
      "execution_count": 33,
      "outputs": []
    },
    {
      "cell_type": "code",
      "metadata": {
        "colab": {
          "base_uri": "https://localhost:8080/"
        },
        "id": "vdfX_CVV8524",
        "outputId": "dd46e16c-74d2-4d46-b97a-71b0ca617af3"
      },
      "source": [
        "train_df2['text'][0:5]"
      ],
      "execution_count": 34,
      "outputs": [
        {
          "output_type": "execute_result",
          "data": {
            "text/plain": [
              "0        deeds reason earthquake may allah forgive us \n",
              "1               forest fire near la ronge sask canada \n",
              "2    residents asked shelter place notified officer...\n",
              "3    13 000 people receive wildfires evacuation ord...\n",
              "4    got sent photo ruby alaska smoke wildfires pou...\n",
              "Name: text, dtype: object"
            ]
          },
          "metadata": {},
          "execution_count": 34
        }
      ]
    },
    {
      "cell_type": "code",
      "metadata": {
        "id": "wrGSWTNW4N07"
      },
      "source": [
        "vocab_size = 10000\n",
        "embedding_dim = 16\n",
        "max_length = 100\n",
        "padding_type='post'\n",
        "oov_tok = \"<OOV>\"\n",
        "training_size = 7000"
      ],
      "execution_count": 35,
      "outputs": []
    },
    {
      "cell_type": "code",
      "metadata": {
        "id": "fJHjb6jvA03B"
      },
      "source": [
        "training_sentences = train_df2['text'][0:training_size]\n",
        "training_keyword = train_df2['keyword'][0:training_size]\n",
        "testing_sentences = train_df2['text'][training_size:]\n",
        "testing_keyword = train_df2['keyword'][training_size:]\n",
        "training_labels = train_df2['target'][0:training_size]\n",
        "testing_labels = train_df2['target'][training_size:]"
      ],
      "execution_count": 36,
      "outputs": []
    },
    {
      "cell_type": "code",
      "metadata": {
        "id": "y_wxJ_xQ96Ne"
      },
      "source": [
        "tokenizer = Tokenizer(num_words=vocab_size, oov_token=oov_tok)\n",
        "tokenizer.fit_on_texts(training_sentences)\n",
        "\n",
        "word_index = tokenizer.word_index\n",
        "\n",
        "training_sequences = tokenizer.texts_to_sequences(training_sentences)\n",
        "training_padded = pad_sequences(training_sequences, maxlen=max_length, padding=padding_type)\n",
        "\n",
        "testing_sequences = tokenizer.texts_to_sequences(testing_sentences)\n",
        "testing_padded = pad_sequences(testing_sequences, maxlen=max_length, padding=padding_type)"
      ],
      "execution_count": 37,
      "outputs": []
    },
    {
      "cell_type": "code",
      "metadata": {
        "id": "CzPGr-NDEyUV"
      },
      "source": [
        "tokenizer.fit_on_texts(training_keyword)\n",
        "word_index = tokenizer.word_index\n",
        "training_key_seq = tokenizer.texts_to_sequences(training_keyword)\n",
        "training_key_padded = pad_sequences(training_key_seq, maxlen=3, padding=padding_type)\n",
        "\n",
        "testing_key_seq = tokenizer.texts_to_sequences(testing_keyword)\n",
        "testing_key_padded = pad_sequences(testing_key_seq, maxlen=3, padding=padding_type)"
      ],
      "execution_count": 38,
      "outputs": []
    },
    {
      "cell_type": "code",
      "metadata": {
        "colab": {
          "base_uri": "https://localhost:8080/"
        },
        "id": "HN1uXHvdghAs",
        "outputId": "86a98c98-b608-4540-a6ae-80bb409cc7a0"
      },
      "source": [
        "training_padded"
      ],
      "execution_count": 46,
      "outputs": [
        {
          "output_type": "execute_result",
          "data": {
            "text/plain": [
              "array([[4135,  700,  233, ...,    0,    0,    0],\n",
              "       [  95,    4,  132, ...,    0,    0,    0],\n",
              "       [1670, 1365, 1671, ...,    0,    0,    0],\n",
              "       ...,\n",
              "       [ 713,  649, 3375, ...,    0,    0,    0],\n",
              "       [   1,  640, 3493, ...,    0,    0,    0],\n",
              "       [   1, 6193,  640, ...,    0,    0,    0]], dtype=int32)"
            ]
          },
          "metadata": {},
          "execution_count": 46
        }
      ]
    },
    {
      "cell_type": "code",
      "metadata": {
        "id": "xEjkksM4iYsU"
      },
      "source": [
        "training_data = np.concatenate((training_padded,training_key_padded), axis = 1 )\n",
        "testing_data = np.concatenate((testing_padded, testing_key_padded), axis=1)"
      ],
      "execution_count": 71,
      "outputs": []
    },
    {
      "cell_type": "code",
      "metadata": {
        "colab": {
          "base_uri": "https://localhost:8080/"
        },
        "id": "h4JQSaBW-jcs",
        "outputId": "76a3be06-8db7-4c8c-bf2e-4ce28feb89e7"
      },
      "source": [
        "training_data"
      ],
      "execution_count": 72,
      "outputs": [
        {
          "output_type": "execute_result",
          "data": {
            "text/plain": [
              "array([[4135,  700,  233, ...,  456,    0,    0],\n",
              "       [  95,    4,  132, ...,  456,    0,    0],\n",
              "       [1670, 1365, 1671, ...,  456,    0,    0],\n",
              "       ...,\n",
              "       [ 713,  649, 3375, ...,  339,    0,    0],\n",
              "       [   1,  640, 3493, ...,  339,    0,    0],\n",
              "       [   1, 6193,  640, ...,  339,    0,    0]], dtype=int32)"
            ]
          },
          "metadata": {},
          "execution_count": 72
        }
      ]
    },
    {
      "cell_type": "code",
      "metadata": {
        "colab": {
          "base_uri": "https://localhost:8080/"
        },
        "id": "uoKqBXyI_H37",
        "outputId": "c4b65d0a-3600-4608-e283-d57629b42aee"
      },
      "source": [
        "training_data.shape"
      ],
      "execution_count": 73,
      "outputs": [
        {
          "output_type": "execute_result",
          "data": {
            "text/plain": [
              "(7000, 103)"
            ]
          },
          "metadata": {},
          "execution_count": 73
        }
      ]
    },
    {
      "cell_type": "code",
      "metadata": {
        "colab": {
          "base_uri": "https://localhost:8080/"
        },
        "id": "yKFBQW_W_s0G",
        "outputId": "589c01c2-5aae-4b08-8c7e-d458431d5188"
      },
      "source": [
        "testing_data.shape"
      ],
      "execution_count": 77,
      "outputs": [
        {
          "output_type": "execute_result",
          "data": {
            "text/plain": [
              "(613, 103)"
            ]
          },
          "metadata": {},
          "execution_count": 77
        }
      ]
    },
    {
      "cell_type": "code",
      "metadata": {
        "id": "QR18hgCG-3Qj"
      },
      "source": [
        "model = tf.keras.Sequential([\n",
        "    tf.keras.layers.Embedding(vocab_size,embedding_dim, input_length=103),\n",
        "    tf.keras.layers.GlobalAveragePooling1D(),\n",
        "    tf.keras.layers.Dense(24, activation='relu'),\n",
        "    tf.keras.layers.Dense(1, activation='sigmoid')\n",
        "])\n",
        "model.compile(loss='binary_crossentropy',optimizer='adam',metrics=['accuracy'])"
      ],
      "execution_count": 82,
      "outputs": []
    },
    {
      "cell_type": "code",
      "metadata": {
        "colab": {
          "base_uri": "https://localhost:8080/"
        },
        "id": "4AkTnubnB-LG",
        "outputId": "4c21f294-9030-444c-c65a-dac04ca5fe64"
      },
      "source": [
        "model.summary()"
      ],
      "execution_count": 83,
      "outputs": [
        {
          "output_type": "stream",
          "name": "stdout",
          "text": [
            "Model: \"sequential_3\"\n",
            "_________________________________________________________________\n",
            " Layer (type)                Output Shape              Param #   \n",
            "=================================================================\n",
            " embedding_3 (Embedding)     (None, 103, 16)           160000    \n",
            "                                                                 \n",
            " global_average_pooling1d_3   (None, 16)               0         \n",
            " (GlobalAveragePooling1D)                                        \n",
            "                                                                 \n",
            " dense_6 (Dense)             (None, 24)                408       \n",
            "                                                                 \n",
            " dense_7 (Dense)             (None, 1)                 25        \n",
            "                                                                 \n",
            "=================================================================\n",
            "Total params: 160,433\n",
            "Trainable params: 160,433\n",
            "Non-trainable params: 0\n",
            "_________________________________________________________________\n"
          ]
        }
      ]
    },
    {
      "cell_type": "code",
      "metadata": {
        "colab": {
          "base_uri": "https://localhost:8080/"
        },
        "id": "qnrBroNHCDAd",
        "outputId": "263789d8-f9a5-45cb-fdd9-6efdf5c3aafe"
      },
      "source": [
        "num_epochs = 30\n",
        "history = model.fit(training_data, training_labels, epochs=num_epochs, validation_data=(testing_data, testing_labels), verbose=2)"
      ],
      "execution_count": 84,
      "outputs": [
        {
          "output_type": "stream",
          "name": "stdout",
          "text": [
            "Epoch 1/30\n",
            "219/219 - 2s - loss: 0.6823 - accuracy: 0.5790 - val_loss: 0.7153 - val_accuracy: 0.4715 - 2s/epoch - 8ms/step\n",
            "Epoch 2/30\n",
            "219/219 - 1s - loss: 0.6747 - accuracy: 0.5790 - val_loss: 0.6997 - val_accuracy: 0.4715 - 625ms/epoch - 3ms/step\n",
            "Epoch 3/30\n",
            "219/219 - 1s - loss: 0.6435 - accuracy: 0.6214 - val_loss: 0.6358 - val_accuracy: 0.6917 - 664ms/epoch - 3ms/step\n",
            "Epoch 4/30\n",
            "219/219 - 1s - loss: 0.5302 - accuracy: 0.7890 - val_loss: 0.5338 - val_accuracy: 0.7586 - 619ms/epoch - 3ms/step\n",
            "Epoch 5/30\n",
            "219/219 - 1s - loss: 0.4206 - accuracy: 0.8357 - val_loss: 0.4712 - val_accuracy: 0.7896 - 670ms/epoch - 3ms/step\n",
            "Epoch 6/30\n",
            "219/219 - 1s - loss: 0.3665 - accuracy: 0.8549 - val_loss: 0.4461 - val_accuracy: 0.8075 - 607ms/epoch - 3ms/step\n",
            "Epoch 7/30\n",
            "219/219 - 1s - loss: 0.3307 - accuracy: 0.8671 - val_loss: 0.4556 - val_accuracy: 0.7847 - 631ms/epoch - 3ms/step\n",
            "Epoch 8/30\n",
            "219/219 - 1s - loss: 0.3053 - accuracy: 0.8781 - val_loss: 0.4448 - val_accuracy: 0.7945 - 622ms/epoch - 3ms/step\n",
            "Epoch 9/30\n",
            "219/219 - 1s - loss: 0.2825 - accuracy: 0.8880 - val_loss: 0.4674 - val_accuracy: 0.7847 - 607ms/epoch - 3ms/step\n",
            "Epoch 10/30\n",
            "219/219 - 1s - loss: 0.2625 - accuracy: 0.8989 - val_loss: 0.4466 - val_accuracy: 0.7928 - 682ms/epoch - 3ms/step\n",
            "Epoch 11/30\n",
            "219/219 - 1s - loss: 0.2457 - accuracy: 0.9056 - val_loss: 0.4567 - val_accuracy: 0.7896 - 608ms/epoch - 3ms/step\n",
            "Epoch 12/30\n",
            "219/219 - 1s - loss: 0.2282 - accuracy: 0.9143 - val_loss: 0.4759 - val_accuracy: 0.7847 - 616ms/epoch - 3ms/step\n",
            "Epoch 13/30\n",
            "219/219 - 1s - loss: 0.2125 - accuracy: 0.9184 - val_loss: 0.4737 - val_accuracy: 0.7863 - 667ms/epoch - 3ms/step\n",
            "Epoch 14/30\n",
            "219/219 - 1s - loss: 0.1999 - accuracy: 0.9249 - val_loss: 0.4799 - val_accuracy: 0.7749 - 613ms/epoch - 3ms/step\n",
            "Epoch 15/30\n",
            "219/219 - 1s - loss: 0.1857 - accuracy: 0.9289 - val_loss: 0.5055 - val_accuracy: 0.7798 - 606ms/epoch - 3ms/step\n",
            "Epoch 16/30\n",
            "219/219 - 1s - loss: 0.1771 - accuracy: 0.9344 - val_loss: 0.5076 - val_accuracy: 0.7765 - 619ms/epoch - 3ms/step\n",
            "Epoch 17/30\n",
            "219/219 - 1s - loss: 0.1640 - accuracy: 0.9390 - val_loss: 0.5199 - val_accuracy: 0.7684 - 622ms/epoch - 3ms/step\n",
            "Epoch 18/30\n",
            "219/219 - 1s - loss: 0.1546 - accuracy: 0.9421 - val_loss: 0.5481 - val_accuracy: 0.7749 - 623ms/epoch - 3ms/step\n",
            "Epoch 19/30\n",
            "219/219 - 1s - loss: 0.1444 - accuracy: 0.9479 - val_loss: 0.5761 - val_accuracy: 0.7700 - 626ms/epoch - 3ms/step\n",
            "Epoch 20/30\n",
            "219/219 - 1s - loss: 0.1377 - accuracy: 0.9509 - val_loss: 0.5711 - val_accuracy: 0.7700 - 635ms/epoch - 3ms/step\n",
            "Epoch 21/30\n",
            "219/219 - 1s - loss: 0.1295 - accuracy: 0.9520 - val_loss: 0.5838 - val_accuracy: 0.7684 - 610ms/epoch - 3ms/step\n",
            "Epoch 22/30\n",
            "219/219 - 1s - loss: 0.1256 - accuracy: 0.9534 - val_loss: 0.6296 - val_accuracy: 0.7700 - 607ms/epoch - 3ms/step\n",
            "Epoch 23/30\n",
            "219/219 - 1s - loss: 0.1162 - accuracy: 0.9579 - val_loss: 0.6134 - val_accuracy: 0.7586 - 623ms/epoch - 3ms/step\n",
            "Epoch 24/30\n",
            "219/219 - 1s - loss: 0.1106 - accuracy: 0.9601 - val_loss: 0.6318 - val_accuracy: 0.7684 - 640ms/epoch - 3ms/step\n",
            "Epoch 25/30\n",
            "219/219 - 1s - loss: 0.1046 - accuracy: 0.9627 - val_loss: 0.6524 - val_accuracy: 0.7618 - 625ms/epoch - 3ms/step\n",
            "Epoch 26/30\n",
            "219/219 - 1s - loss: 0.1006 - accuracy: 0.9641 - val_loss: 0.6705 - val_accuracy: 0.7716 - 623ms/epoch - 3ms/step\n",
            "Epoch 27/30\n",
            "219/219 - 1s - loss: 0.0962 - accuracy: 0.9649 - val_loss: 0.6879 - val_accuracy: 0.7667 - 666ms/epoch - 3ms/step\n",
            "Epoch 28/30\n",
            "219/219 - 1s - loss: 0.0928 - accuracy: 0.9670 - val_loss: 0.7090 - val_accuracy: 0.7667 - 661ms/epoch - 3ms/step\n",
            "Epoch 29/30\n",
            "219/219 - 1s - loss: 0.0882 - accuracy: 0.9667 - val_loss: 0.7289 - val_accuracy: 0.7667 - 663ms/epoch - 3ms/step\n",
            "Epoch 30/30\n",
            "219/219 - 1s - loss: 0.0848 - accuracy: 0.9687 - val_loss: 0.7468 - val_accuracy: 0.7618 - 650ms/epoch - 3ms/step\n"
          ]
        }
      ]
    },
    {
      "cell_type": "code",
      "metadata": {
        "colab": {
          "base_uri": "https://localhost:8080/",
          "height": 541
        },
        "id": "7yCGQ15wCJJ7",
        "outputId": "dd5cb9bd-58d6-44ee-9555-aaf214a8421e"
      },
      "source": [
        "def plot_graphs(history, string):\n",
        "  plt.plot(history.history[string])\n",
        "  plt.plot(history.history['val_'+string])\n",
        "  plt.xlabel(\"Epochs\")\n",
        "  plt.ylabel(string)\n",
        "  plt.legend([string, 'val_'+string])\n",
        "  plt.show()\n",
        "  \n",
        "plot_graphs(history, \"accuracy\")\n",
        "plot_graphs(history, \"loss\")"
      ],
      "execution_count": 85,
      "outputs": [
        {
          "output_type": "display_data",
          "data": {
            "image/png": "[encoded data removed]",
            "text/plain": [
              "<Figure size 432x288 with 1 Axes>"
            ]
          },
          "metadata": {
            "needs_background": "light"
          }
        },
        {
          "output_type": "display_data",
          "data": {
            "image/png": "[encoded data removed]",
            "text/plain": [
              "<Figure size 432x288 with 1 Axes>"
            ]
          },
          "metadata": {
            "needs_background": "light"
          }
        }
      ]
    },
    {
      "cell_type": "code",
      "metadata": {
        "id": "OF5ydiLGC-4j"
      },
      "source": [
        "tokenizer = Tokenizer(num_words=vocab_size, oov_token=oov_tok)\n",
        "tokenizer.fit_on_texts(training_sentences)\n",
        "\n",
        "word_index = tokenizer.word_index\n",
        "\n",
        "test_sequences = tokenizer.texts_to_sequences(test_df2['text'])\n",
        "test_padded = pad_sequences(test_sequences, maxlen=max_length, padding=padding_type)"
      ],
      "execution_count": 90,
      "outputs": []
    },
    {
      "cell_type": "code",
      "metadata": {
        "id": "krhX1x_KCGOw"
      },
      "source": [
        "tokenizer.fit_on_texts(training_keyword)\n",
        "word_index = tokenizer.word_index\n",
        "test_key_seq = tokenizer.texts_to_sequences(test_df2['keyword'])\n",
        "test_key_padded = pad_sequences(test_key_seq, maxlen=3, padding=padding_type)"
      ],
      "execution_count": 92,
      "outputs": []
    },
    {
      "cell_type": "code",
      "metadata": {
        "colab": {
          "base_uri": "https://localhost:8080/"
        },
        "id": "_3zVSY4TCcSb",
        "outputId": "535af088-d740-4723-e350-7b95b9ee4cce"
      },
      "source": [
        "test_padded.shape"
      ],
      "execution_count": 91,
      "outputs": [
        {
          "output_type": "execute_result",
          "data": {
            "text/plain": [
              "(3263, 100)"
            ]
          },
          "metadata": {},
          "execution_count": 91
        }
      ]
    },
    {
      "cell_type": "code",
      "metadata": {
        "colab": {
          "base_uri": "https://localhost:8080/"
        },
        "id": "ySAmnvdtCfbU",
        "outputId": "b900f1bd-351f-4393-e8ac-a11fe0d02f2b"
      },
      "source": [
        "test_key_padded.shape"
      ],
      "execution_count": 93,
      "outputs": [
        {
          "output_type": "execute_result",
          "data": {
            "text/plain": [
              "(3263, 3)"
            ]
          },
          "metadata": {},
          "execution_count": 93
        }
      ]
    },
    {
      "cell_type": "code",
      "metadata": {
        "id": "3qvFP29kCwRi"
      },
      "source": [
        "test_data = np.concatenate((test_padded, test_key_padded), axis=1)"
      ],
      "execution_count": 94,
      "outputs": []
    },
    {
      "cell_type": "code",
      "metadata": {
        "colab": {
          "base_uri": "https://localhost:8080/"
        },
        "id": "J8uiRgTTC8yn",
        "outputId": "431cf6ca-2809-402d-d71a-62a327b15df9"
      },
      "source": [
        "test_data.shape"
      ],
      "execution_count": 95,
      "outputs": [
        {
          "output_type": "execute_result",
          "data": {
            "text/plain": [
              "(3263, 103)"
            ]
          },
          "metadata": {},
          "execution_count": 95
        }
      ]
    },
    {
      "cell_type": "code",
      "metadata": {
        "id": "7juQ8kMgC_Go"
      },
      "source": [
        "preds = model.predict(test_data)"
      ],
      "execution_count": 97,
      "outputs": []
    },
    {
      "cell_type": "code",
      "metadata": {
        "colab": {
          "base_uri": "https://localhost:8080/"
        },
        "id": "KvBtq21lDIdh",
        "outputId": "a921da57-aa53-4ede-d3ed-0c11f61235c5"
      },
      "source": [
        "preds"
      ],
      "execution_count": 98,
      "outputs": [
        {
          "output_type": "execute_result",
          "data": {
            "text/plain": [
              "array([[0.42153037],\n",
              "       [0.73780924],\n",
              "       [0.9998287 ],\n",
              "       ...,\n",
              "       [0.96859   ],\n",
              "       [0.9003464 ],\n",
              "       [0.9687691 ]], dtype=float32)"
            ]
          },
          "metadata": {},
          "execution_count": 98
        }
      ]
    },
    {
      "cell_type": "code",
      "metadata": {
        "id": "7ygbDDbTFZ8y"
      },
      "source": [
        "preds[preds < 0.5 ] = 0\n",
        "preds[preds > 0.5 ] = 1"
      ],
      "execution_count": 103,
      "outputs": []
    },
    {
      "cell_type": "code",
      "metadata": {
        "colab": {
          "base_uri": "https://localhost:8080/"
        },
        "id": "6_1pkQ6fFr2Y",
        "outputId": "66f26100-79b7-4f2e-9646-9ecb22fa93f5"
      },
      "source": [
        "preds"
      ],
      "execution_count": 104,
      "outputs": [
        {
          "output_type": "execute_result",
          "data": {
            "text/plain": [
              "array([[0.],\n",
              "       [1.],\n",
              "       [1.],\n",
              "       ...,\n",
              "       [1.],\n",
              "       [1.],\n",
              "       [1.]], dtype=float32)"
            ]
          },
          "metadata": {},
          "execution_count": 104
        }
      ]
    },
    {
      "cell_type": "code",
      "metadata": {
        "id": "HFay93WfGGHO"
      },
      "source": [
        "preds = preds.astype('int32')"
      ],
      "execution_count": 105,
      "outputs": []
    },
    {
      "cell_type": "code",
      "metadata": {
        "colab": {
          "base_uri": "https://localhost:8080/"
        },
        "id": "6baV2nI9GMYn",
        "outputId": "57754214-e8ee-41bc-f0ce-de8eacb79d93"
      },
      "source": [
        "preds"
      ],
      "execution_count": 107,
      "outputs": [
        {
          "output_type": "execute_result",
          "data": {
            "text/plain": [
              "array([[0],\n",
              "       [1],\n",
              "       [1],\n",
              "       ...,\n",
              "       [1],\n",
              "       [1],\n",
              "       [1]], dtype=int32)"
            ]
          },
          "metadata": {},
          "execution_count": 107
        }
      ]
    },
    {
      "cell_type": "code",
      "metadata": {
        "id": "q-cuY8VhDYEl"
      },
      "source": [
        "submission_df = pd.read_csv(\"tweetsample_submission.csv\")"
      ],
      "execution_count": 100,
      "outputs": []
    },
    {
      "cell_type": "code",
      "metadata": {
        "colab": {
          "base_uri": "https://localhost:8080/",
          "height": 419
        },
        "id": "G2Xlkd9QEFK_",
        "outputId": "9014500f-d6bf-45d1-d79e-35b60da82cc2"
      },
      "source": [
        "submission_df"
      ],
      "execution_count": 101,
      "outputs": [
        {
          "output_type": "execute_result",
          "data": {
            "text/html": [
              "<div>\n",
              "<style scoped>\n",
              "    .dataframe tbody tr th:only-of-type {\n",
              "        vertical-align: middle;\n",
              "    }\n",
              "\n",
              "    .dataframe tbody tr th {\n",
              "        vertical-align: top;\n",
              "    }\n",
              "\n",
              "    .dataframe thead th {\n",
              "        text-align: right;\n",
              "    }\n",
              "</style>\n",
              "<table border=\"1\" class=\"dataframe\">\n",
              "  <thead>\n",
              "    <tr style=\"text-align: right;\">\n",
              "      <th></th>\n",
              "      <th>id</th>\n",
              "      <th>target</th>\n",
              "    </tr>\n",
              "  </thead>\n",
              "  <tbody>\n",
              "    <tr>\n",
              "      <th>0</th>\n",
              "      <td>0</td>\n",
              "      <td>0</td>\n",
              "    </tr>\n",
              "    <tr>\n",
              "      <th>1</th>\n",
              "      <td>2</td>\n",
              "      <td>0</td>\n",
              "    </tr>\n",
              "    <tr>\n",
              "      <th>2</th>\n",
              "      <td>3</td>\n",
              "      <td>0</td>\n",
              "    </tr>\n",
              "    <tr>\n",
              "      <th>3</th>\n",
              "      <td>9</td>\n",
              "      <td>0</td>\n",
              "    </tr>\n",
              "    <tr>\n",
              "      <th>4</th>\n",
              "      <td>11</td>\n",
              "      <td>0</td>\n",
              "    </tr>\n",
              "    <tr>\n",
              "      <th>...</th>\n",
              "      <td>...</td>\n",
              "      <td>...</td>\n",
              "    </tr>\n",
              "    <tr>\n",
              "      <th>3258</th>\n",
              "      <td>10861</td>\n",
              "      <td>0</td>\n",
              "    </tr>\n",
              "    <tr>\n",
              "      <th>3259</th>\n",
              "      <td>10865</td>\n",
              "      <td>0</td>\n",
              "    </tr>\n",
              "    <tr>\n",
              "      <th>3260</th>\n",
              "      <td>10868</td>\n",
              "      <td>0</td>\n",
              "    </tr>\n",
              "    <tr>\n",
              "      <th>3261</th>\n",
              "      <td>10874</td>\n",
              "      <td>0</td>\n",
              "    </tr>\n",
              "    <tr>\n",
              "      <th>3262</th>\n",
              "      <td>10875</td>\n",
              "      <td>0</td>\n",
              "    </tr>\n",
              "  </tbody>\n",
              "</table>\n",
              "<p>3263 rows × 2 columns</p>\n",
              "</div>"
            ],
            "text/plain": [
              "         id  target\n",
              "0         0       0\n",
              "1         2       0\n",
              "2         3       0\n",
              "3         9       0\n",
              "4        11       0\n",
              "...     ...     ...\n",
              "3258  10861       0\n",
              "3259  10865       0\n",
              "3260  10868       0\n",
              "3261  10874       0\n",
              "3262  10875       0\n",
              "\n",
              "[3263 rows x 2 columns]"
            ]
          },
          "metadata": {},
          "execution_count": 101
        }
      ]
    },
    {
      "cell_type": "code",
      "metadata": {
        "id": "5TrAOzJYEKZN"
      },
      "source": [
        "def generate_submission(preds, fname):\n",
        "    sub_df = pd.read_csv('tweetsample_submission.csv')\n",
        "    sub_df['target'] = preds\n",
        "    sub_df.to_csv(fname, index=None)"
      ],
      "execution_count": 108,
      "outputs": []
    },
    {
      "cell_type": "code",
      "metadata": {
        "id": "xmyGWQ7hGunO"
      },
      "source": [
        "generate_submission(preds, 'tweet_sub.csv')"
      ],
      "execution_count": 109,
      "outputs": []
    },
    {
      "cell_type": "code",
      "metadata": {
        "id": "sIYJfHHsJTHd"
      },
      "source": [
        ""
      ],
      "execution_count": null,
      "outputs": []
    }
  ]
}